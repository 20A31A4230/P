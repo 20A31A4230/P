{
 "cells": [
  {
   "cell_type": "code",
   "execution_count": 66,
   "id": "27746708",
   "metadata": {},
   "outputs": [],
   "source": [
    "import numpy as np"
   ]
  },
  {
   "cell_type": "code",
   "execution_count": 67,
   "id": "1bb547da",
   "metadata": {},
   "outputs": [],
   "source": [
    "board = np.array([['-','-','-'],['-','-','-'],['-','-','-']])"
   ]
  },
  {
   "cell_type": "code",
   "execution_count": 68,
   "id": "7d070057",
   "metadata": {},
   "outputs": [],
   "source": [
    "pl1 = 'X'\n",
    "pl2 = 'O'"
   ]
  },
  {
   "cell_type": "code",
   "execution_count": 69,
   "id": "fa610090",
   "metadata": {},
   "outputs": [],
   "source": [
    "def check_rows(symbol):\n",
    "    for r in range(3):\n",
    "        count = 0\n",
    "        for c in range(3):\n",
    "            if board[r][c] == symbol:\n",
    "                count+=1\n",
    "        if count==3:\n",
    "            print(symbol,\" Won\")\n",
    "            return True\n",
    "    return False\n",
    "\n",
    "def check_cols(symbol):\n",
    "    for c in range(3):\n",
    "        count = 0\n",
    "        for r in range(3):\n",
    "            if board[r][c] == symbol:\n",
    "                count+=1\n",
    "        if count==3:\n",
    "            print(symbol,\" Won\")\n",
    "            return True\n",
    "    return False\n",
    "\n",
    "def check_diagonals(symbol):\n",
    "    if board[0][0] == board[1,1] and board[1,1]==board[2,2] and board[1,1]==symbol:\n",
    "        print(symbol, 'won')\n",
    "        return true\n",
    "    if board[0][2] == board[1,1] and board[1,1]==board[2,0] and board[1,1]==symbol:\n",
    "        print(symbol, 'won')\n",
    "        return true\n",
    "    return False\n",
    "    \n",
    "\n",
    "def won(symbol):\n",
    "    return check_rows(symbol) or check_cols(symbol) or check_diagonals(symbol)\n"
   ]
  },
  {
   "cell_type": "code",
   "execution_count": 70,
   "id": "d9b0d0f9",
   "metadata": {},
   "outputs": [],
   "source": [
    "def place(symbol):\n",
    "    print(np.matrix(board))\n",
    "    \n",
    "    while(1):\n",
    "        row = int(input(\"Enter the row (1-3)\"))\n",
    "        col = int(input(\"Enter the Column (1-3)\"))\n",
    "        if row>0 and row<4 and col>0 and col<4 and board[row-1][col-1]=='-':\n",
    "            break\n",
    "        else:\n",
    "            print(\"Invalid Input..Enter again\")\n",
    "    board[row-1][col-1] = symbol\n"
   ]
  },
  {
   "cell_type": "code",
   "execution_count": 71,
   "id": "36a05552",
   "metadata": {},
   "outputs": [],
   "source": [
    "def play():\n",
    "    for turn in range(9):\n",
    "        if turn%2 == 0:\n",
    "            print(\"X turn\")\n",
    "            place(pl1)\n",
    "            if won(pl1):\n",
    "                break\n",
    "        else:\n",
    "            print(\"O turn\")\n",
    "            place(pl2)\n",
    "            if won(pl2):\n",
    "                break\n",
    "                \n",
    "    if not(won(pl1)) and not(won(pl2)):\n",
    "        print(\"Draw\")"
   ]
  },
  {
   "cell_type": "code",
   "execution_count": null,
   "id": "ede33811",
   "metadata": {},
   "outputs": [
    {
     "name": "stdout",
     "output_type": "stream",
     "text": [
      "X turn\n",
      "[['-' 'X' 'O']\n",
      " ['O' 'O' '-']\n",
      " ['X' 'X' 'X']]\n"
     ]
    }
   ],
   "source": [
    "play()"
   ]
  },
  {
   "cell_type": "code",
   "execution_count": null,
   "id": "c3c70d23",
   "metadata": {},
   "outputs": [],
   "source": []
  }
 ],
 "metadata": {
  "kernelspec": {
   "display_name": "Python 3 (ipykernel)",
   "language": "python",
   "name": "python3"
  },
  "language_info": {
   "codemirror_mode": {
    "name": "ipython",
    "version": 3
   },
   "file_extension": ".py",
   "mimetype": "text/x-python",
   "name": "python",
   "nbconvert_exporter": "python",
   "pygments_lexer": "ipython3",
   "version": "3.9.7"
  }
 },
 "nbformat": 4,
 "nbformat_minor": 5
}
